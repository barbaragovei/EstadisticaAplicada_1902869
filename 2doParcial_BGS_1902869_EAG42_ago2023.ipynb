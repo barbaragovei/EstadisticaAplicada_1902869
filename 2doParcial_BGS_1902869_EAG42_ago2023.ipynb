{
 "cells": [
  {
   "cell_type": "markdown",
   "metadata": {},
   "source": [
    "# Estadistica Aplicada\n",
    "\n",
    "2do parcial\n",
    "\n",
    "Bárbara Govea Serna 1902869\n",
    "\n",
    "Grupo 42"
   ]
  },
  {
   "cell_type": "code",
   "execution_count": 25,
   "metadata": {},
   "outputs": [],
   "source": [
    "import numpy as np\n",
    "import pandas as pd\n",
    "import matplotlib.pyplot as plt\n",
    "%matplotlib inline"
   ]
  },
  {
   "cell_type": "code",
   "execution_count": 26,
   "metadata": {},
   "outputs": [
    {
     "data": {
      "text/html": [
       "<div>\n",
       "<style scoped>\n",
       "    .dataframe tbody tr th:only-of-type {\n",
       "        vertical-align: middle;\n",
       "    }\n",
       "\n",
       "    .dataframe tbody tr th {\n",
       "        vertical-align: top;\n",
       "    }\n",
       "\n",
       "    .dataframe thead th {\n",
       "        text-align: right;\n",
       "    }\n",
       "</style>\n",
       "<table border=\"1\" class=\"dataframe\">\n",
       "  <thead>\n",
       "    <tr style=\"text-align: right;\">\n",
       "      <th></th>\n",
       "      <th>saldo_cuenta</th>\n",
       "      <th>meses</th>\n",
       "      <th>historia_crediticia</th>\n",
       "      <th>uso</th>\n",
       "      <th>cantidad</th>\n",
       "      <th>saldo_cuenta_ahorro</th>\n",
       "      <th>años_trabajando</th>\n",
       "      <th>tasa_de_interes</th>\n",
       "      <th>genero_estado_civil</th>\n",
       "      <th>aval</th>\n",
       "      <th>...</th>\n",
       "      <th>activos</th>\n",
       "      <th>edad</th>\n",
       "      <th>planes_de_pago</th>\n",
       "      <th>casa</th>\n",
       "      <th>numero_creditos</th>\n",
       "      <th>situacion_laboral</th>\n",
       "      <th>dependientes_economicos</th>\n",
       "      <th>telefono</th>\n",
       "      <th>extranjero</th>\n",
       "      <th>credito_pagado</th>\n",
       "    </tr>\n",
       "  </thead>\n",
       "  <tbody>\n",
       "    <tr>\n",
       "      <th>0</th>\n",
       "      <td>menor_a_cero</td>\n",
       "      <td>6</td>\n",
       "      <td>no_ha_pagado</td>\n",
       "      <td>TV</td>\n",
       "      <td>1169</td>\n",
       "      <td>NaN</td>\n",
       "      <td>mas_de_7</td>\n",
       "      <td>4</td>\n",
       "      <td>hombre_soltero</td>\n",
       "      <td>NaN</td>\n",
       "      <td>...</td>\n",
       "      <td>bienes_raices</td>\n",
       "      <td>67</td>\n",
       "      <td>NaN</td>\n",
       "      <td>propia</td>\n",
       "      <td>2</td>\n",
       "      <td>gobierno</td>\n",
       "      <td>1</td>\n",
       "      <td>1</td>\n",
       "      <td>1</td>\n",
       "      <td>1</td>\n",
       "    </tr>\n",
       "    <tr>\n",
       "      <th>1</th>\n",
       "      <td>cero_a_200</td>\n",
       "      <td>48</td>\n",
       "      <td>pago_algun_credito</td>\n",
       "      <td>TV</td>\n",
       "      <td>5951</td>\n",
       "      <td>menor_100</td>\n",
       "      <td>1_a_4</td>\n",
       "      <td>2</td>\n",
       "      <td>mujer_no_soltera</td>\n",
       "      <td>NaN</td>\n",
       "      <td>...</td>\n",
       "      <td>bienes_raices</td>\n",
       "      <td>22</td>\n",
       "      <td>NaN</td>\n",
       "      <td>propia</td>\n",
       "      <td>1</td>\n",
       "      <td>gobierno</td>\n",
       "      <td>1</td>\n",
       "      <td>0</td>\n",
       "      <td>1</td>\n",
       "      <td>0</td>\n",
       "    </tr>\n",
       "    <tr>\n",
       "      <th>2</th>\n",
       "      <td>sin_cuenta</td>\n",
       "      <td>12</td>\n",
       "      <td>no_ha_pagado</td>\n",
       "      <td>colegiaturas</td>\n",
       "      <td>2096</td>\n",
       "      <td>menor_100</td>\n",
       "      <td>4_a_7</td>\n",
       "      <td>2</td>\n",
       "      <td>hombre_soltero</td>\n",
       "      <td>NaN</td>\n",
       "      <td>...</td>\n",
       "      <td>bienes_raices</td>\n",
       "      <td>49</td>\n",
       "      <td>NaN</td>\n",
       "      <td>propia</td>\n",
       "      <td>1</td>\n",
       "      <td>obrero</td>\n",
       "      <td>2</td>\n",
       "      <td>0</td>\n",
       "      <td>1</td>\n",
       "      <td>1</td>\n",
       "    </tr>\n",
       "    <tr>\n",
       "      <th>3</th>\n",
       "      <td>menor_a_cero</td>\n",
       "      <td>42</td>\n",
       "      <td>pago_algun_credito</td>\n",
       "      <td>mobiliario</td>\n",
       "      <td>7882</td>\n",
       "      <td>menor_100</td>\n",
       "      <td>4_a_7</td>\n",
       "      <td>2</td>\n",
       "      <td>hombre_soltero</td>\n",
       "      <td>aval</td>\n",
       "      <td>...</td>\n",
       "      <td>seguro_vida</td>\n",
       "      <td>45</td>\n",
       "      <td>NaN</td>\n",
       "      <td>prestada</td>\n",
       "      <td>1</td>\n",
       "      <td>gobierno</td>\n",
       "      <td>2</td>\n",
       "      <td>0</td>\n",
       "      <td>1</td>\n",
       "      <td>1</td>\n",
       "    </tr>\n",
       "    <tr>\n",
       "      <th>4</th>\n",
       "      <td>menor_a_cero</td>\n",
       "      <td>24</td>\n",
       "      <td>pago_retrasado</td>\n",
       "      <td>coche_nuevo</td>\n",
       "      <td>4870</td>\n",
       "      <td>menor_100</td>\n",
       "      <td>1_a_4</td>\n",
       "      <td>3</td>\n",
       "      <td>hombre_soltero</td>\n",
       "      <td>NaN</td>\n",
       "      <td>...</td>\n",
       "      <td>sin_activos</td>\n",
       "      <td>53</td>\n",
       "      <td>NaN</td>\n",
       "      <td>prestada</td>\n",
       "      <td>2</td>\n",
       "      <td>gobierno</td>\n",
       "      <td>2</td>\n",
       "      <td>0</td>\n",
       "      <td>1</td>\n",
       "      <td>0</td>\n",
       "    </tr>\n",
       "  </tbody>\n",
       "</table>\n",
       "<p>5 rows × 21 columns</p>\n",
       "</div>"
      ],
      "text/plain": [
       "   saldo_cuenta  meses historia_crediticia           uso  cantidad  \\\n",
       "0  menor_a_cero      6        no_ha_pagado            TV      1169   \n",
       "1    cero_a_200     48  pago_algun_credito            TV      5951   \n",
       "2    sin_cuenta     12        no_ha_pagado  colegiaturas      2096   \n",
       "3  menor_a_cero     42  pago_algun_credito    mobiliario      7882   \n",
       "4  menor_a_cero     24      pago_retrasado   coche_nuevo      4870   \n",
       "\n",
       "  saldo_cuenta_ahorro años_trabajando  tasa_de_interes genero_estado_civil  \\\n",
       "0                 NaN        mas_de_7                4      hombre_soltero   \n",
       "1           menor_100           1_a_4                2    mujer_no_soltera   \n",
       "2           menor_100           4_a_7                2      hombre_soltero   \n",
       "3           menor_100           4_a_7                2      hombre_soltero   \n",
       "4           menor_100           1_a_4                3      hombre_soltero   \n",
       "\n",
       "   aval  ...        activos edad  planes_de_pago      casa numero_creditos  \\\n",
       "0   NaN  ...  bienes_raices   67             NaN    propia               2   \n",
       "1   NaN  ...  bienes_raices   22             NaN    propia               1   \n",
       "2   NaN  ...  bienes_raices   49             NaN    propia               1   \n",
       "3  aval  ...    seguro_vida   45             NaN  prestada               1   \n",
       "4   NaN  ...    sin_activos   53             NaN  prestada               2   \n",
       "\n",
       "   situacion_laboral dependientes_economicos  telefono  extranjero  \\\n",
       "0           gobierno                       1         1           1   \n",
       "1           gobierno                       1         0           1   \n",
       "2             obrero                       2         0           1   \n",
       "3           gobierno                       2         0           1   \n",
       "4           gobierno                       2         0           1   \n",
       "\n",
       "   credito_pagado  \n",
       "0               1  \n",
       "1               0  \n",
       "2               1  \n",
       "3               1  \n",
       "4               0  \n",
       "\n",
       "[5 rows x 21 columns]"
      ]
     },
     "execution_count": 26,
     "metadata": {},
     "output_type": "execute_result"
    }
   ],
   "source": [
    "banco = pd.read_csv('https://raw.githubusercontent.com/jimmyzac/Estadistica-Aplicada-FCFM-UANL/main/bases_datos/credit_risk.csv')\n",
    "banco.head()"
   ]
  },
  {
   "cell_type": "markdown",
   "metadata": {},
   "source": [
    "La variable \"crédito_pagado\" toma el valor de 1 si el cliente ha pagado completamente el préstamo y 0 si no lo ha hecho o aún no ha terminado de pagar. \n",
    "\n",
    "Además, se dispone de información sobre  el tiempo en meses que lleva pagar completamente el préstamo, registrado en la variable \"meses\", y el monto del préstamo otorgado en euros, registrado en la variable \"cantidad\"."
   ]
  },
  {
   "cell_type": "markdown",
   "metadata": {},
   "source": [
    "# 1. Análisis exploratorio"
   ]
  },
  {
   "cell_type": "markdown",
   "metadata": {},
   "source": [
    "## a) Cuantas variables y cuantas observaciones tienen la base"
   ]
  },
  {
   "cell_type": "code",
   "execution_count": 27,
   "metadata": {},
   "outputs": [
    {
     "name": "stdout",
     "output_type": "stream",
     "text": [
      "<class 'pandas.core.frame.DataFrame'>\n",
      "RangeIndex: 1000 entries, 0 to 999\n",
      "Data columns (total 21 columns):\n",
      " #   Column                   Non-Null Count  Dtype \n",
      "---  ------                   --------------  ----- \n",
      " 0   saldo_cuenta             1000 non-null   object\n",
      " 1   meses                    1000 non-null   int64 \n",
      " 2   historia_crediticia      1000 non-null   object\n",
      " 3   uso                      1000 non-null   object\n",
      " 4   cantidad                 1000 non-null   int64 \n",
      " 5   saldo_cuenta_ahorro      817 non-null    object\n",
      " 6   años_trabajando          1000 non-null   object\n",
      " 7   tasa_de_interes          1000 non-null   int64 \n",
      " 8   genero_estado_civil      1000 non-null   object\n",
      " 9   aval                     52 non-null     object\n",
      " 10  años_actual_domicilio    1000 non-null   int64 \n",
      " 11  activos                  1000 non-null   object\n",
      " 12  edad                     1000 non-null   int64 \n",
      " 13  planes_de_pago           186 non-null    object\n",
      " 14  casa                     1000 non-null   object\n",
      " 15  numero_creditos          1000 non-null   int64 \n",
      " 16  situacion_laboral        1000 non-null   object\n",
      " 17  dependientes_economicos  1000 non-null   int64 \n",
      " 18  telefono                 1000 non-null   int64 \n",
      " 19  extranjero               1000 non-null   int64 \n",
      " 20  credito_pagado           1000 non-null   int64 \n",
      "dtypes: int64(10), object(11)\n",
      "memory usage: 164.2+ KB\n"
     ]
    }
   ],
   "source": [
    "banco.info()"
   ]
  },
  {
   "cell_type": "code",
   "execution_count": 28,
   "metadata": {},
   "outputs": [
    {
     "name": "stdout",
     "output_type": "stream",
     "text": [
      "El numero de variables es de 21 y el numero de observaciones es de 1000\n"
     ]
    }
   ],
   "source": [
    "variables = banco.shape[1]\n",
    "observaciones = banco.shape[0]\n",
    "print(f'El numero de variables es de {variables} y el numero de observaciones es de {observaciones}')"
   ]
  },
  {
   "cell_type": "markdown",
   "metadata": {},
   "source": [
    "## b) Cuál es el monto promedio de los créditos otorgados por el banco"
   ]
  },
  {
   "cell_type": "code",
   "execution_count": 29,
   "metadata": {},
   "outputs": [
    {
     "name": "stdout",
     "output_type": "stream",
     "text": [
      "El monto promedio de los créditos otorgados por el banco es de 3271.26 euros\n"
     ]
    }
   ],
   "source": [
    "prom_cantidad = banco['cantidad'].mean().round(2)\n",
    "print(f'El monto promedio de los créditos otorgados por el banco es de {prom_cantidad} euros')"
   ]
  },
  {
   "cell_type": "markdown",
   "metadata": {},
   "source": [
    "## c) Cuál es el tiempo promedio que se tardaron en pagar el préstamo los que pagaron el préstamo en su totalidad"
   ]
  },
  {
   "cell_type": "code",
   "execution_count": 30,
   "metadata": {},
   "outputs": [
    {
     "name": "stdout",
     "output_type": "stream",
     "text": [
      "El tiempo promedio que se tardaron en pagar el prestamo los que pagaron el préstamo en su totalidad es de 19.0 meses\n"
     ]
    }
   ],
   "source": [
    "prom_cantidad_credito_pagado = banco.query('credito_pagado==1')['meses'].mean().round()\n",
    "print(f'El tiempo promedio que se tardaron en pagar el prestamo los que pagaron el préstamo en su totalidad es de {prom_cantidad_credito_pagado} meses')"
   ]
  },
  {
   "cell_type": "markdown",
   "metadata": {},
   "source": [
    "## d) Cuál es la tasa de interés promedio otorgada por el banco"
   ]
  },
  {
   "cell_type": "code",
   "execution_count": 31,
   "metadata": {},
   "outputs": [
    {
     "name": "stdout",
     "output_type": "stream",
     "text": [
      "La tasa de interes promedio otorgada por el banco es de 2.97\n"
     ]
    }
   ],
   "source": [
    "interes_prom = banco['tasa_de_interes'].mean().round(2)\n",
    "print(f'La tasa de interes promedio otorgada por el banco es de {interes_prom}')\n"
   ]
  },
  {
   "cell_type": "markdown",
   "metadata": {},
   "source": [
    "## e) Cuál es el monto promedio y la tasa de interés promedio de los que ya pagaron"
   ]
  },
  {
   "cell_type": "code",
   "execution_count": 32,
   "metadata": {},
   "outputs": [
    {
     "name": "stdout",
     "output_type": "stream",
     "text": [
      "El monto promedio de prestamo de aquellos que ya pagaron en su totalidad es de 2985.46 euros, mientras que la tasa promedio es de 2.92\n"
     ]
    }
   ],
   "source": [
    "prom_monto_credito_pagado = banco.query('credito_pagado==1')['cantidad'].mean().round(2)\n",
    "prom_interes_credito_pagado = banco.query('credito_pagado==1')['tasa_de_interes'].mean().round(2)\n",
    "print(f'El monto promedio de prestamo de aquellos que ya pagaron en su totalidad es de {prom_monto_credito_pagado} euros, mientras que la tasa promedio es de {prom_interes_credito_pagado}')\n",
    "\n"
   ]
  },
  {
   "cell_type": "markdown",
   "metadata": {},
   "source": [
    "## f) Cuál es el monto promedio y la tasa de interés promedio de los que no han pagado "
   ]
  },
  {
   "cell_type": "code",
   "execution_count": 33,
   "metadata": {},
   "outputs": [
    {
     "name": "stdout",
     "output_type": "stream",
     "text": [
      "El monto promedio de prestamo de aquellos que aun no han pagaron es de 3938.13 euros, mientras que la tasa promedio es de 3.1\n"
     ]
    }
   ],
   "source": [
    "prom_monto_credito_pagado = banco.query('credito_pagado==0')['cantidad'].mean().round(2)\n",
    "prom_interes_credito_pagado = banco.query('credito_pagado==0')['tasa_de_interes'].mean().round(2)\n",
    "print(f'El monto promedio de prestamo de aquellos que aun no han pagaron es de {prom_monto_credito_pagado} euros, mientras que la tasa promedio es de {prom_interes_credito_pagado}')"
   ]
  },
  {
   "cell_type": "markdown",
   "metadata": {},
   "source": [
    "# 2. Estime un modelo de Kaplan-meier"
   ]
  },
  {
   "cell_type": "code",
   "execution_count": 34,
   "metadata": {},
   "outputs": [],
   "source": [
    "# Estimador Kaplan Meier de la función de supervivencia, primero el tiempo después la censura\n",
    "from lifelines import KaplanMeierFitter\n",
    "km1 = KaplanMeierFitter().fit(banco['meses'],banco['credito_pagado'])"
   ]
  },
  {
   "cell_type": "markdown",
   "metadata": {},
   "source": [
    "## a) cuál es la mediana del tiempo y que significa"
   ]
  },
  {
   "cell_type": "code",
   "execution_count": 35,
   "metadata": {},
   "outputs": [
    {
     "data": {
      "text/plain": [
       "24.0"
      ]
     },
     "execution_count": 35,
     "metadata": {},
     "output_type": "execute_result"
    }
   ],
   "source": [
    "# Mediana de la función de supervivencia\n",
    "km1.median_survival_time_"
   ]
  },
  {
   "cell_type": "markdown",
   "metadata": {},
   "source": [
    "La mediana del tiempo de supervivencia de 24, significa que la mitad de los creditos pagados completamente fueron realizados a los 24 meses, es decir, 2 años. "
   ]
  },
  {
   "cell_type": "markdown",
   "metadata": {},
   "source": [
    "## b) es mayor/menor que el tiempo promedio del inciso 1c"
   ]
  },
  {
   "cell_type": "markdown",
   "metadata": {},
   "source": [
    "La mediana es mayor que el tiempo promedio, por lo que hay valores extremedamente pequeños que afectan la media hacia abajo. "
   ]
  },
  {
   "cell_type": "markdown",
   "metadata": {},
   "source": [
    "# 3. Determine si el riesgo de que el préstamo se pague en su totalidad es constante, creciente, decreciente, o tipo log-normal respecto al tiempo"
   ]
  },
  {
   "cell_type": "code",
   "execution_count": 36,
   "metadata": {},
   "outputs": [
    {
     "name": "stdout",
     "output_type": "stream",
     "text": [
      "El riesgo es constante durante todo el tiempo\n"
     ]
    },
    {
     "data": {
      "text/html": [
       "<div>\n",
       "<style scoped>\n",
       "    .dataframe tbody tr th:only-of-type {\n",
       "        vertical-align: middle;\n",
       "    }\n",
       "\n",
       "    .dataframe tbody tr th {\n",
       "        vertical-align: top;\n",
       "    }\n",
       "\n",
       "    .dataframe thead th {\n",
       "        text-align: right;\n",
       "    }\n",
       "</style>\n",
       "<table border=\"1\" class=\"dataframe\">\n",
       "  <thead>\n",
       "    <tr style=\"text-align: right;\">\n",
       "      <th></th>\n",
       "      <th>Exponential_estimate</th>\n",
       "    </tr>\n",
       "  </thead>\n",
       "  <tbody>\n",
       "    <tr>\n",
       "      <th>4.000000</th>\n",
       "      <td>0.033488</td>\n",
       "    </tr>\n",
       "    <tr>\n",
       "      <th>4.136273</th>\n",
       "      <td>0.033488</td>\n",
       "    </tr>\n",
       "    <tr>\n",
       "      <th>4.272545</th>\n",
       "      <td>0.033488</td>\n",
       "    </tr>\n",
       "    <tr>\n",
       "      <th>4.408818</th>\n",
       "      <td>0.033488</td>\n",
       "    </tr>\n",
       "    <tr>\n",
       "      <th>4.545090</th>\n",
       "      <td>0.033488</td>\n",
       "    </tr>\n",
       "    <tr>\n",
       "      <th>...</th>\n",
       "      <td>...</td>\n",
       "    </tr>\n",
       "    <tr>\n",
       "      <th>71.454910</th>\n",
       "      <td>0.033488</td>\n",
       "    </tr>\n",
       "    <tr>\n",
       "      <th>71.591182</th>\n",
       "      <td>0.033488</td>\n",
       "    </tr>\n",
       "    <tr>\n",
       "      <th>71.727455</th>\n",
       "      <td>0.033488</td>\n",
       "    </tr>\n",
       "    <tr>\n",
       "      <th>71.863727</th>\n",
       "      <td>0.033488</td>\n",
       "    </tr>\n",
       "    <tr>\n",
       "      <th>72.000000</th>\n",
       "      <td>0.033488</td>\n",
       "    </tr>\n",
       "  </tbody>\n",
       "</table>\n",
       "<p>500 rows × 1 columns</p>\n",
       "</div>"
      ],
      "text/plain": [
       "           Exponential_estimate\n",
       "4.000000               0.033488\n",
       "4.136273               0.033488\n",
       "4.272545               0.033488\n",
       "4.408818               0.033488\n",
       "4.545090               0.033488\n",
       "...                         ...\n",
       "71.454910              0.033488\n",
       "71.591182              0.033488\n",
       "71.727455              0.033488\n",
       "71.863727              0.033488\n",
       "72.000000              0.033488\n",
       "\n",
       "[500 rows x 1 columns]"
      ]
     },
     "execution_count": 36,
     "metadata": {},
     "output_type": "execute_result"
    }
   ],
   "source": [
    "# Estimar el riesgo por exponencial \n",
    "from lifelines import ExponentialFitter\n",
    "exponen = ExponentialFitter().fit(banco['meses'],banco['credito_pagado'])\n",
    "print('El riesgo es constante durante todo el tiempo')\n",
    "exponen.hazard_"
   ]
  },
  {
   "cell_type": "code",
   "execution_count": 37,
   "metadata": {},
   "outputs": [
    {
     "name": "stdout",
     "output_type": "stream",
     "text": [
      "Como gamma = 1.71, el riesgo de que el préstamo se pague en su totalidad es creciente \n"
     ]
    }
   ],
   "source": [
    "# Estimar el riesgo por medio del modelo weibull\n",
    "from lifelines import WeibullFitter\n",
    "mweibull = WeibullFitter().fit(banco['meses'],banco['credito_pagado'])\n",
    "gamma = mweibull.rho_.round(2)\n",
    "print(f'Como gamma = {gamma}, el riesgo de que el préstamo se pague en su totalidad es creciente ')"
   ]
  },
  {
   "cell_type": "code",
   "execution_count": 38,
   "metadata": {},
   "outputs": [
    {
     "data": {
      "image/png": "[encoded data removed]",
      "text/plain": [
       "<Figure size 640x480 with 1 Axes>"
      ]
     },
     "metadata": {},
     "output_type": "display_data"
    }
   ],
   "source": [
    "# Estimar el riesgo por medio del modelo Lognormal\n",
    "from lifelines import LogNormalFitter\n",
    "llognormal = LogNormalFitter().fit(banco['meses'],banco['credito_pagado'])\n",
    "llognormal.plot_hazard()\n",
    "plt.title('Funcion de riesgo $h(t)$ lognormal')\n",
    "plt.xlim(4,73);"
   ]
  },
  {
   "cell_type": "code",
   "execution_count": 39,
   "metadata": {},
   "outputs": [
    {
     "name": "stdout",
     "output_type": "stream",
     "text": [
      "AIC Exponencial: 6157.19 AIC Weibull: 5900.98 AIC Lognormal: 5813.75\n"
     ]
    }
   ],
   "source": [
    "# Para saber que modelo es  \"mejor\" utilizamos AIC\n",
    "print('AIC Exponencial:',exponen.AIC_.round(2),'AIC Weibull:',mweibull.AIC_.round(2),'AIC Lognormal:',llognormal.AIC_.round(2))\n"
   ]
  },
  {
   "cell_type": "markdown",
   "metadata": {},
   "source": [
    "Segun el criterio de AIC, el \"mejor\" modelo es: el modelo Lognormal, al representar un valor menor y el riesgo de que el préstamo se pague en su totalidad es creciente. Notese que desde el tiempo 4 hasta el tiempo 20 aproximadamente ccrece de una manera acelerada. "
   ]
  },
  {
   "cell_type": "markdown",
   "metadata": {},
   "source": [
    "# 4. Estimar un modelo de Cox para ver qué factores influyen sobre el riesgo de que el préstamo se pague en su totalidad"
   ]
  },
  {
   "cell_type": "markdown",
   "metadata": {},
   "source": [
    "## a) A parte de “tasa de interes” y “cantidad”, elige otras cuatro variables que creas que afectan el riesgo del evento\n"
   ]
  },
  {
   "cell_type": "markdown",
   "metadata": {},
   "source": [
    "Se elegirán las siguientes variables: \n",
    "\n",
    "- numero_creditos\n",
    "- edad\n",
    "- meses\n",
    "- situación\n",
    "- historia_crediticia"
   ]
  },
  {
   "cell_type": "code",
   "execution_count": 40,
   "metadata": {},
   "outputs": [
    {
     "data": {
      "text/plain": [
       "array(['gobierno', 'obrero', 'administrativo', 'desempleado'],\n",
       "      dtype=object)"
      ]
     },
     "execution_count": 40,
     "metadata": {},
     "output_type": "execute_result"
    }
   ],
   "source": [
    "banco['situacion_laboral'].unique()"
   ]
  },
  {
   "cell_type": "code",
   "execution_count": 41,
   "metadata": {},
   "outputs": [
    {
     "data": {
      "text/plain": [
       "array(['no_ha_pagado', 'pago_algun_credito', 'pago_retrasado',\n",
       "       'sin_creditos', 'pago_todos'], dtype=object)"
      ]
     },
     "execution_count": 41,
     "metadata": {},
     "output_type": "execute_result"
    }
   ],
   "source": [
    "banco['historia_crediticia'].unique()"
   ]
  },
  {
   "cell_type": "code",
   "execution_count": 42,
   "metadata": {},
   "outputs": [
    {
     "data": {
      "text/html": [
       "<div>\n",
       "<style scoped>\n",
       "    .dataframe tbody tr th:only-of-type {\n",
       "        vertical-align: middle;\n",
       "    }\n",
       "\n",
       "    .dataframe tbody tr th {\n",
       "        vertical-align: top;\n",
       "    }\n",
       "\n",
       "    .dataframe thead th {\n",
       "        text-align: right;\n",
       "    }\n",
       "</style>\n",
       "<table border=\"1\" class=\"dataframe\">\n",
       "  <thead>\n",
       "    <tr style=\"text-align: right;\">\n",
       "      <th></th>\n",
       "      <th>credito_pagado</th>\n",
       "      <th>meses</th>\n",
       "      <th>tasa_de_interes</th>\n",
       "      <th>cantidad</th>\n",
       "      <th>numero_creditos</th>\n",
       "      <th>edad</th>\n",
       "      <th>historia_crediticia</th>\n",
       "      <th>situacion_laboral</th>\n",
       "    </tr>\n",
       "  </thead>\n",
       "  <tbody>\n",
       "    <tr>\n",
       "      <th>0</th>\n",
       "      <td>1</td>\n",
       "      <td>6</td>\n",
       "      <td>4</td>\n",
       "      <td>1169</td>\n",
       "      <td>2</td>\n",
       "      <td>67</td>\n",
       "      <td>no_ha_pagado</td>\n",
       "      <td>gobierno</td>\n",
       "    </tr>\n",
       "    <tr>\n",
       "      <th>1</th>\n",
       "      <td>0</td>\n",
       "      <td>48</td>\n",
       "      <td>2</td>\n",
       "      <td>5951</td>\n",
       "      <td>1</td>\n",
       "      <td>22</td>\n",
       "      <td>pago_algun_credito</td>\n",
       "      <td>gobierno</td>\n",
       "    </tr>\n",
       "    <tr>\n",
       "      <th>2</th>\n",
       "      <td>1</td>\n",
       "      <td>12</td>\n",
       "      <td>2</td>\n",
       "      <td>2096</td>\n",
       "      <td>1</td>\n",
       "      <td>49</td>\n",
       "      <td>no_ha_pagado</td>\n",
       "      <td>obrero</td>\n",
       "    </tr>\n",
       "    <tr>\n",
       "      <th>3</th>\n",
       "      <td>1</td>\n",
       "      <td>42</td>\n",
       "      <td>2</td>\n",
       "      <td>7882</td>\n",
       "      <td>1</td>\n",
       "      <td>45</td>\n",
       "      <td>pago_algun_credito</td>\n",
       "      <td>gobierno</td>\n",
       "    </tr>\n",
       "    <tr>\n",
       "      <th>4</th>\n",
       "      <td>0</td>\n",
       "      <td>24</td>\n",
       "      <td>3</td>\n",
       "      <td>4870</td>\n",
       "      <td>2</td>\n",
       "      <td>53</td>\n",
       "      <td>pago_retrasado</td>\n",
       "      <td>gobierno</td>\n",
       "    </tr>\n",
       "  </tbody>\n",
       "</table>\n",
       "</div>"
      ],
      "text/plain": [
       "   credito_pagado  meses  tasa_de_interes  cantidad  numero_creditos  edad  \\\n",
       "0               1      6                4      1169                2    67   \n",
       "1               0     48                2      5951                1    22   \n",
       "2               1     12                2      2096                1    49   \n",
       "3               1     42                2      7882                1    45   \n",
       "4               0     24                3      4870                2    53   \n",
       "\n",
       "  historia_crediticia situacion_laboral  \n",
       "0        no_ha_pagado          gobierno  \n",
       "1  pago_algun_credito          gobierno  \n",
       "2        no_ha_pagado            obrero  \n",
       "3  pago_algun_credito          gobierno  \n",
       "4      pago_retrasado          gobierno  "
      ]
     },
     "execution_count": 42,
     "metadata": {},
     "output_type": "execute_result"
    }
   ],
   "source": [
    "banco = banco[['credito_pagado','meses','tasa_de_interes','cantidad','numero_creditos','edad','historia_crediticia','situacion_laboral']]\n",
    "banco.head()"
   ]
  },
  {
   "cell_type": "markdown",
   "metadata": {},
   "source": [
    "## b) Di si cada una de las 6 variables que elegiste, aumentan/disminuyen el riesgo del evento y por qué"
   ]
  },
  {
   "cell_type": "markdown",
   "metadata": {},
   "source": [
    "- Tasa de interes y cantidad: Una tasa de interes o una cantidad baja puede aumentar el riesgo de que el prestamo sea pagado en su totalidad. Por otro lado, se cree que a mayor tasa de interés y a mayor cantidad, mayor dificultad se presentara el terminar de pagar el préstamo en su totalidad, por lo que el riesgo disminuirá. \n",
    "\n",
    "- Numero de creditos: Una cantidad de créditos menor puede aumentar el riesgo de que el prestamo sea pagado en su totalidad. Por otro lado, si cuenta con más créditos a deber, se dificultará más.\n",
    "\n",
    "- Edad: Se puede pensar que entre mayor sea la persona, mayor soporte economico tiene, por lo que puede pagar el préstamo más rápido, aumentando el riesgo de que el préstamo sea pagado en su totalidad. Y entre menor sea la persona, el riesgo se disminuirá. \n",
    "\n",
    "- Historia creditica: Aquellos que no han tenido ningun crédito, que no han pagado o que lo hicieron con retrado, es decir que no tienen un buen historial crediticio pueden dismuir el riesgo de que el préstamo sea pagado en su totalidad, probablemente no esten acostumbrados a realizar pagos. \n",
    "\n",
    "- Situación: Aquellos desempleados, o que tienen un puesto bajo pueden disminuir el riesgo de que el pago sea pagado en su totalidad. Ya que no tienen fondos suficientes para terminar de pagar su crédito."
   ]
  },
  {
   "cell_type": "markdown",
   "metadata": {},
   "source": [
    "## c) Realiza las transformaciones adecuadas para utilizar las variables en un modelo de cox"
   ]
  },
  {
   "cell_type": "code",
   "execution_count": 43,
   "metadata": {},
   "outputs": [
    {
     "data": {
      "text/plain": [
       "credito_pagado         0\n",
       "meses                  0\n",
       "tasa_de_interes        0\n",
       "cantidad               0\n",
       "numero_creditos        0\n",
       "edad                   0\n",
       "historia_crediticia    0\n",
       "situacion_laboral      0\n",
       "dtype: int64"
      ]
     },
     "execution_count": 43,
     "metadata": {},
     "output_type": "execute_result"
    }
   ],
   "source": [
    "# Contar los valores perdidos/faltantes (missing values) \n",
    "banco.isnull().sum()"
   ]
  },
  {
   "cell_type": "code",
   "execution_count": 44,
   "metadata": {},
   "outputs": [
    {
     "data": {
      "text/plain": [
       "0"
      ]
     },
     "execution_count": 44,
     "metadata": {},
     "output_type": "execute_result"
    }
   ],
   "source": [
    "banco.duplicated().sum()"
   ]
  },
  {
   "cell_type": "code",
   "execution_count": 45,
   "metadata": {},
   "outputs": [
    {
     "name": "stdout",
     "output_type": "stream",
     "text": [
      "<class 'pandas.core.frame.DataFrame'>\n",
      "RangeIndex: 1000 entries, 0 to 999\n",
      "Data columns (total 8 columns):\n",
      " #   Column               Non-Null Count  Dtype \n",
      "---  ------               --------------  ----- \n",
      " 0   credito_pagado       1000 non-null   int64 \n",
      " 1   meses                1000 non-null   int64 \n",
      " 2   tasa_de_interes      1000 non-null   int64 \n",
      " 3   cantidad             1000 non-null   int64 \n",
      " 4   numero_creditos      1000 non-null   int64 \n",
      " 5   edad                 1000 non-null   int64 \n",
      " 6   historia_crediticia  1000 non-null   object\n",
      " 7   situacion_laboral    1000 non-null   object\n",
      "dtypes: int64(6), object(2)\n",
      "memory usage: 62.6+ KB\n"
     ]
    }
   ],
   "source": [
    "banco.info()"
   ]
  },
  {
   "cell_type": "code",
   "execution_count": 46,
   "metadata": {},
   "outputs": [
    {
     "data": {
      "text/html": [
       "<div>\n",
       "<style scoped>\n",
       "    .dataframe tbody tr th:only-of-type {\n",
       "        vertical-align: middle;\n",
       "    }\n",
       "\n",
       "    .dataframe tbody tr th {\n",
       "        vertical-align: top;\n",
       "    }\n",
       "\n",
       "    .dataframe thead th {\n",
       "        text-align: right;\n",
       "    }\n",
       "</style>\n",
       "<table border=\"1\" class=\"dataframe\">\n",
       "  <thead>\n",
       "    <tr style=\"text-align: right;\">\n",
       "      <th></th>\n",
       "      <th>credito_pagado</th>\n",
       "      <th>meses</th>\n",
       "      <th>tasa_de_interes</th>\n",
       "      <th>cantidad</th>\n",
       "      <th>numero_creditos</th>\n",
       "      <th>edad</th>\n",
       "      <th>historia_crediticia_pago_algun_credito</th>\n",
       "      <th>historia_crediticia_pago_retrasado</th>\n",
       "      <th>historia_crediticia_pago_todos</th>\n",
       "      <th>historia_crediticia_sin_creditos</th>\n",
       "      <th>situacion_laboral_desempleado</th>\n",
       "      <th>situacion_laboral_gobierno</th>\n",
       "      <th>situacion_laboral_obrero</th>\n",
       "    </tr>\n",
       "  </thead>\n",
       "  <tbody>\n",
       "    <tr>\n",
       "      <th>0</th>\n",
       "      <td>1</td>\n",
       "      <td>6</td>\n",
       "      <td>4</td>\n",
       "      <td>1169</td>\n",
       "      <td>2</td>\n",
       "      <td>67</td>\n",
       "      <td>0</td>\n",
       "      <td>0</td>\n",
       "      <td>0</td>\n",
       "      <td>0</td>\n",
       "      <td>0</td>\n",
       "      <td>1</td>\n",
       "      <td>0</td>\n",
       "    </tr>\n",
       "    <tr>\n",
       "      <th>1</th>\n",
       "      <td>0</td>\n",
       "      <td>48</td>\n",
       "      <td>2</td>\n",
       "      <td>5951</td>\n",
       "      <td>1</td>\n",
       "      <td>22</td>\n",
       "      <td>1</td>\n",
       "      <td>0</td>\n",
       "      <td>0</td>\n",
       "      <td>0</td>\n",
       "      <td>0</td>\n",
       "      <td>1</td>\n",
       "      <td>0</td>\n",
       "    </tr>\n",
       "    <tr>\n",
       "      <th>2</th>\n",
       "      <td>1</td>\n",
       "      <td>12</td>\n",
       "      <td>2</td>\n",
       "      <td>2096</td>\n",
       "      <td>1</td>\n",
       "      <td>49</td>\n",
       "      <td>0</td>\n",
       "      <td>0</td>\n",
       "      <td>0</td>\n",
       "      <td>0</td>\n",
       "      <td>0</td>\n",
       "      <td>0</td>\n",
       "      <td>1</td>\n",
       "    </tr>\n",
       "    <tr>\n",
       "      <th>3</th>\n",
       "      <td>1</td>\n",
       "      <td>42</td>\n",
       "      <td>2</td>\n",
       "      <td>7882</td>\n",
       "      <td>1</td>\n",
       "      <td>45</td>\n",
       "      <td>1</td>\n",
       "      <td>0</td>\n",
       "      <td>0</td>\n",
       "      <td>0</td>\n",
       "      <td>0</td>\n",
       "      <td>1</td>\n",
       "      <td>0</td>\n",
       "    </tr>\n",
       "    <tr>\n",
       "      <th>4</th>\n",
       "      <td>0</td>\n",
       "      <td>24</td>\n",
       "      <td>3</td>\n",
       "      <td>4870</td>\n",
       "      <td>2</td>\n",
       "      <td>53</td>\n",
       "      <td>0</td>\n",
       "      <td>1</td>\n",
       "      <td>0</td>\n",
       "      <td>0</td>\n",
       "      <td>0</td>\n",
       "      <td>1</td>\n",
       "      <td>0</td>\n",
       "    </tr>\n",
       "  </tbody>\n",
       "</table>\n",
       "</div>"
      ],
      "text/plain": [
       "   credito_pagado  meses  tasa_de_interes  cantidad  numero_creditos  edad  \\\n",
       "0               1      6                4      1169                2    67   \n",
       "1               0     48                2      5951                1    22   \n",
       "2               1     12                2      2096                1    49   \n",
       "3               1     42                2      7882                1    45   \n",
       "4               0     24                3      4870                2    53   \n",
       "\n",
       "   historia_crediticia_pago_algun_credito  historia_crediticia_pago_retrasado  \\\n",
       "0                                       0                                   0   \n",
       "1                                       1                                   0   \n",
       "2                                       0                                   0   \n",
       "3                                       1                                   0   \n",
       "4                                       0                                   1   \n",
       "\n",
       "   historia_crediticia_pago_todos  historia_crediticia_sin_creditos  \\\n",
       "0                               0                                 0   \n",
       "1                               0                                 0   \n",
       "2                               0                                 0   \n",
       "3                               0                                 0   \n",
       "4                               0                                 0   \n",
       "\n",
       "   situacion_laboral_desempleado  situacion_laboral_gobierno  \\\n",
       "0                              0                           1   \n",
       "1                              0                           1   \n",
       "2                              0                           0   \n",
       "3                              0                           1   \n",
       "4                              0                           1   \n",
       "\n",
       "   situacion_laboral_obrero  \n",
       "0                         0  \n",
       "1                         0  \n",
       "2                         1  \n",
       "3                         0  \n",
       "4                         0  "
      ]
     },
     "execution_count": 46,
     "metadata": {},
     "output_type": "execute_result"
    }
   ],
   "source": [
    "# Utilizamos drop_first=True para quedarnos con n-1 dummies\n",
    "banco = pd.get_dummies(banco,columns=['historia_crediticia','situacion_laboral'], drop_first=True, dtype = int) \n",
    "banco.head()"
   ]
  },
  {
   "cell_type": "markdown",
   "metadata": {},
   "source": [
    "## d) Estima un modelo de cox con las variables elegidas e interpreta los coeficientes."
   ]
  },
  {
   "cell_type": "code",
   "execution_count": 47,
   "metadata": {},
   "outputs": [
    {
     "ename": "ImportError",
     "evalue": "Missing optional dependency 'Jinja2'. DataFrame.style requires jinja2. Use pip or conda to install Jinja2.",
     "output_type": "error",
     "traceback": [
      "\u001b[1;31m---------------------------------------------------------------------------\u001b[0m",
      "\u001b[1;31mModuleNotFoundError\u001b[0m                       Traceback (most recent call last)",
      "File \u001b[1;32mc:\\Users\\yola\\AppData\\Local\\Programs\\Python\\Python311\\Lib\\site-packages\\pandas\\compat\\_optional.py:142\u001b[0m, in \u001b[0;36mimport_optional_dependency\u001b[1;34m(name, extra, errors, min_version)\u001b[0m\n\u001b[0;32m    141\u001b[0m \u001b[39mtry\u001b[39;00m:\n\u001b[1;32m--> 142\u001b[0m     module \u001b[39m=\u001b[39m importlib\u001b[39m.\u001b[39;49mimport_module(name)\n\u001b[0;32m    143\u001b[0m \u001b[39mexcept\u001b[39;00m \u001b[39mImportError\u001b[39;00m:\n",
      "File \u001b[1;32mc:\\Users\\yola\\AppData\\Local\\Programs\\Python\\Python311\\Lib\\importlib\\__init__.py:126\u001b[0m, in \u001b[0;36mimport_module\u001b[1;34m(name, package)\u001b[0m\n\u001b[0;32m    125\u001b[0m         level \u001b[39m+\u001b[39m\u001b[39m=\u001b[39m \u001b[39m1\u001b[39m\n\u001b[1;32m--> 126\u001b[0m \u001b[39mreturn\u001b[39;00m _bootstrap\u001b[39m.\u001b[39;49m_gcd_import(name[level:], package, level)\n",
      "File \u001b[1;32m<frozen importlib._bootstrap>:1204\u001b[0m, in \u001b[0;36m_gcd_import\u001b[1;34m(name, package, level)\u001b[0m\n",
      "File \u001b[1;32m<frozen importlib._bootstrap>:1176\u001b[0m, in \u001b[0;36m_find_and_load\u001b[1;34m(name, import_)\u001b[0m\n",
      "File \u001b[1;32m<frozen importlib._bootstrap>:1140\u001b[0m, in \u001b[0;36m_find_and_load_unlocked\u001b[1;34m(name, import_)\u001b[0m\n",
      "\u001b[1;31mModuleNotFoundError\u001b[0m: No module named 'jinja2'",
      "\nDuring handling of the above exception, another exception occurred:\n",
      "\u001b[1;31mImportError\u001b[0m                               Traceback (most recent call last)",
      "File \u001b[1;32m~\\AppData\\Roaming\\Python\\Python311\\site-packages\\IPython\\core\\formatters.py:344\u001b[0m, in \u001b[0;36mBaseFormatter.__call__\u001b[1;34m(self, obj)\u001b[0m\n\u001b[0;32m    342\u001b[0m     method \u001b[39m=\u001b[39m get_real_method(obj, \u001b[39mself\u001b[39m\u001b[39m.\u001b[39mprint_method)\n\u001b[0;32m    343\u001b[0m     \u001b[39mif\u001b[39;00m method \u001b[39mis\u001b[39;00m \u001b[39mnot\u001b[39;00m \u001b[39mNone\u001b[39;00m:\n\u001b[1;32m--> 344\u001b[0m         \u001b[39mreturn\u001b[39;00m method()\n\u001b[0;32m    345\u001b[0m     \u001b[39mreturn\u001b[39;00m \u001b[39mNone\u001b[39;00m\n\u001b[0;32m    346\u001b[0m \u001b[39melse\u001b[39;00m:\n",
      "File \u001b[1;32mc:\\Users\\yola\\AppData\\Local\\Programs\\Python\\Python311\\Lib\\site-packages\\lifelines\\utils\\printer.py:185\u001b[0m, in \u001b[0;36mPrinter._repr_latex_\u001b[1;34m(self)\u001b[0m\n\u001b[0;32m    182\u001b[0m \u001b[39mdef\u001b[39;00m \u001b[39m_repr_latex_\u001b[39m(\n\u001b[0;32m    183\u001b[0m     \u001b[39mself\u001b[39m,\n\u001b[0;32m    184\u001b[0m ):\n\u001b[1;32m--> 185\u001b[0m     \u001b[39mreturn\u001b[39;00m \u001b[39mself\u001b[39;49m\u001b[39m.\u001b[39;49mto_latex()\n",
      "File \u001b[1;32mc:\\Users\\yola\\AppData\\Local\\Programs\\Python\\Python311\\Lib\\site-packages\\lifelines\\utils\\printer.py:62\u001b[0m, in \u001b[0;36mPrinter.to_latex\u001b[1;34m(self)\u001b[0m\n\u001b[0;32m     60\u001b[0m \u001b[39melse\u001b[39;00m:\n\u001b[0;32m     61\u001b[0m     columns \u001b[39m=\u001b[39m summary_df\u001b[39m.\u001b[39mcolumns\u001b[39m.\u001b[39mintersection(\u001b[39mself\u001b[39m\u001b[39m.\u001b[39mcolumns)\n\u001b[1;32m---> 62\u001b[0m s \u001b[39m=\u001b[39m summary_df[columns]\u001b[39m.\u001b[39;49mstyle\n\u001b[0;32m     63\u001b[0m s \u001b[39m=\u001b[39m s\u001b[39m.\u001b[39mformat(precision\u001b[39m=\u001b[39m\u001b[39mself\u001b[39m\u001b[39m.\u001b[39mdecimals)\n\u001b[0;32m     64\u001b[0m \u001b[39mreturn\u001b[39;00m s\u001b[39m.\u001b[39mto_latex()\n",
      "File \u001b[1;32mc:\\Users\\yola\\AppData\\Local\\Programs\\Python\\Python311\\Lib\\site-packages\\pandas\\core\\frame.py:1291\u001b[0m, in \u001b[0;36mDataFrame.style\u001b[1;34m(self)\u001b[0m\n\u001b[0;32m   1279\u001b[0m \u001b[39m@property\u001b[39m\n\u001b[0;32m   1280\u001b[0m \u001b[39mdef\u001b[39;00m \u001b[39mstyle\u001b[39m(\u001b[39mself\u001b[39m) \u001b[39m-\u001b[39m\u001b[39m>\u001b[39m Styler:\n\u001b[0;32m   1281\u001b[0m \u001b[39m    \u001b[39m\u001b[39m\"\"\"\u001b[39;00m\n\u001b[0;32m   1282\u001b[0m \u001b[39m    Returns a Styler object.\u001b[39;00m\n\u001b[0;32m   1283\u001b[0m \n\u001b[1;32m   (...)\u001b[0m\n\u001b[0;32m   1289\u001b[0m \u001b[39m        data with HTML and CSS.\u001b[39;00m\n\u001b[0;32m   1290\u001b[0m \u001b[39m    \"\"\"\u001b[39;00m\n\u001b[1;32m-> 1291\u001b[0m     \u001b[39mfrom\u001b[39;00m \u001b[39mpandas\u001b[39;00m\u001b[39m.\u001b[39;00m\u001b[39mio\u001b[39;00m\u001b[39m.\u001b[39;00m\u001b[39mformats\u001b[39;00m\u001b[39m.\u001b[39;00m\u001b[39mstyle\u001b[39;00m \u001b[39mimport\u001b[39;00m Styler\n\u001b[0;32m   1293\u001b[0m     \u001b[39mreturn\u001b[39;00m Styler(\u001b[39mself\u001b[39m)\n",
      "File \u001b[1;32mc:\\Users\\yola\\AppData\\Local\\Programs\\Python\\Python311\\Lib\\site-packages\\pandas\\io\\formats\\style.py:56\u001b[0m\n\u001b[0;32m     52\u001b[0m \u001b[39mfrom\u001b[39;00m \u001b[39mpandas\u001b[39;00m\u001b[39m.\u001b[39;00m\u001b[39mcore\u001b[39;00m\u001b[39m.\u001b[39;00m\u001b[39mshared_docs\u001b[39;00m \u001b[39mimport\u001b[39;00m _shared_docs\n\u001b[0;32m     54\u001b[0m \u001b[39mfrom\u001b[39;00m \u001b[39mpandas\u001b[39;00m\u001b[39m.\u001b[39;00m\u001b[39mio\u001b[39;00m\u001b[39m.\u001b[39;00m\u001b[39mformats\u001b[39;00m\u001b[39m.\u001b[39;00m\u001b[39mformat\u001b[39;00m \u001b[39mimport\u001b[39;00m save_to_buffer\n\u001b[1;32m---> 56\u001b[0m jinja2 \u001b[39m=\u001b[39m import_optional_dependency(\u001b[39m\"\u001b[39;49m\u001b[39mjinja2\u001b[39;49m\u001b[39m\"\u001b[39;49m, extra\u001b[39m=\u001b[39;49m\u001b[39m\"\u001b[39;49m\u001b[39mDataFrame.style requires jinja2.\u001b[39;49m\u001b[39m\"\u001b[39;49m)\n\u001b[0;32m     58\u001b[0m \u001b[39mfrom\u001b[39;00m \u001b[39mpandas\u001b[39;00m\u001b[39m.\u001b[39;00m\u001b[39mio\u001b[39;00m\u001b[39m.\u001b[39;00m\u001b[39mformats\u001b[39;00m\u001b[39m.\u001b[39;00m\u001b[39mstyle_render\u001b[39;00m \u001b[39mimport\u001b[39;00m (\n\u001b[0;32m     59\u001b[0m     CSSProperties,\n\u001b[0;32m     60\u001b[0m     CSSStyles,\n\u001b[1;32m   (...)\u001b[0m\n\u001b[0;32m     68\u001b[0m     refactor_levels,\n\u001b[0;32m     69\u001b[0m )\n\u001b[0;32m     71\u001b[0m \u001b[39mif\u001b[39;00m TYPE_CHECKING:\n",
      "File \u001b[1;32mc:\\Users\\yola\\AppData\\Local\\Programs\\Python\\Python311\\Lib\\site-packages\\pandas\\compat\\_optional.py:145\u001b[0m, in \u001b[0;36mimport_optional_dependency\u001b[1;34m(name, extra, errors, min_version)\u001b[0m\n\u001b[0;32m    143\u001b[0m \u001b[39mexcept\u001b[39;00m \u001b[39mImportError\u001b[39;00m:\n\u001b[0;32m    144\u001b[0m     \u001b[39mif\u001b[39;00m errors \u001b[39m==\u001b[39m \u001b[39m\"\u001b[39m\u001b[39mraise\u001b[39m\u001b[39m\"\u001b[39m:\n\u001b[1;32m--> 145\u001b[0m         \u001b[39mraise\u001b[39;00m \u001b[39mImportError\u001b[39;00m(msg)\n\u001b[0;32m    146\u001b[0m     \u001b[39mreturn\u001b[39;00m \u001b[39mNone\u001b[39;00m\n\u001b[0;32m    148\u001b[0m \u001b[39m# Handle submodules: if we have submodule, grab parent module from sys.modules\u001b[39;00m\n",
      "\u001b[1;31mImportError\u001b[0m: Missing optional dependency 'Jinja2'. DataFrame.style requires jinja2. Use pip or conda to install Jinja2."
     ]
    },
    {
     "data": {
      "text/html": [
       "<div>\n",
       "<style scoped>\n",
       "    .dataframe tbody tr th:only-of-type {\n",
       "        vertical-align: middle;\n",
       "    }\n",
       "\n",
       "    .dataframe tbody tr th {\n",
       "        vertical-align: top;\n",
       "    }\n",
       "\n",
       "    .dataframe thead th {\n",
       "        text-align: right;\n",
       "    }\n",
       "</style>\n",
       "<table border=\"1\" class=\"dataframe\">\n",
       "  <tbody>\n",
       "    <tr>\n",
       "      <th>model</th>\n",
       "      <td>lifelines.CoxPHFitter</td>\n",
       "    </tr>\n",
       "    <tr>\n",
       "      <th>duration col</th>\n",
       "      <td>'meses'</td>\n",
       "    </tr>\n",
       "    <tr>\n",
       "      <th>event col</th>\n",
       "      <td>'credito_pagado'</td>\n",
       "    </tr>\n",
       "    <tr>\n",
       "      <th>baseline estimation</th>\n",
       "      <td>breslow</td>\n",
       "    </tr>\n",
       "    <tr>\n",
       "      <th>number of observations</th>\n",
       "      <td>1000</td>\n",
       "    </tr>\n",
       "    <tr>\n",
       "      <th>number of events observed</th>\n",
       "      <td>700</td>\n",
       "    </tr>\n",
       "    <tr>\n",
       "      <th>partial log-likelihood</th>\n",
       "      <td>-4028.69</td>\n",
       "    </tr>\n",
       "    <tr>\n",
       "      <th>time fit was run</th>\n",
       "      <td>2023-10-04 04:04:50 UTC</td>\n",
       "    </tr>\n",
       "  </tbody>\n",
       "</table>\n",
       "</div><table border=\"1\" class=\"dataframe\">\n",
       "  <thead>\n",
       "    <tr style=\"text-align: right;\">\n",
       "      <th style=\"min-width: 12px;\"></th>\n",
       "      <th style=\"min-width: 12px;\">coef</th>\n",
       "      <th style=\"min-width: 12px;\">exp(coef)</th>\n",
       "      <th style=\"min-width: 12px;\">se(coef)</th>\n",
       "      <th style=\"min-width: 12px;\">coef lower 95%</th>\n",
       "      <th style=\"min-width: 12px;\">coef upper 95%</th>\n",
       "      <th style=\"min-width: 12px;\">exp(coef) lower 95%</th>\n",
       "      <th style=\"min-width: 12px;\">exp(coef) upper 95%</th>\n",
       "      <th style=\"min-width: 12px;\">cmp to</th>\n",
       "      <th style=\"min-width: 12px;\">z</th>\n",
       "      <th style=\"min-width: 12px;\">p</th>\n",
       "      <th style=\"min-width: 12px;\">-log2(p)</th>\n",
       "    </tr>\n",
       "  </thead>\n",
       "  <tbody>\n",
       "    <tr>\n",
       "      <th>tasa_de_interes</th>\n",
       "      <td>-0.45</td>\n",
       "      <td>0.64</td>\n",
       "      <td>0.04</td>\n",
       "      <td>-0.52</td>\n",
       "      <td>-0.37</td>\n",
       "      <td>0.59</td>\n",
       "      <td>0.69</td>\n",
       "      <td>0.00</td>\n",
       "      <td>-11.90</td>\n",
       "      <td>&lt;0.005</td>\n",
       "      <td>106.03</td>\n",
       "    </tr>\n",
       "    <tr>\n",
       "      <th>cantidad</th>\n",
       "      <td>-0.00</td>\n",
       "      <td>1.00</td>\n",
       "      <td>0.00</td>\n",
       "      <td>-0.00</td>\n",
       "      <td>-0.00</td>\n",
       "      <td>1.00</td>\n",
       "      <td>1.00</td>\n",
       "      <td>0.00</td>\n",
       "      <td>-16.03</td>\n",
       "      <td>&lt;0.005</td>\n",
       "      <td>189.77</td>\n",
       "    </tr>\n",
       "    <tr>\n",
       "      <th>numero_creditos</th>\n",
       "      <td>0.03</td>\n",
       "      <td>1.03</td>\n",
       "      <td>0.08</td>\n",
       "      <td>-0.13</td>\n",
       "      <td>0.19</td>\n",
       "      <td>0.87</td>\n",
       "      <td>1.21</td>\n",
       "      <td>0.00</td>\n",
       "      <td>0.35</td>\n",
       "      <td>0.72</td>\n",
       "      <td>0.47</td>\n",
       "    </tr>\n",
       "    <tr>\n",
       "      <th>edad</th>\n",
       "      <td>0.01</td>\n",
       "      <td>1.01</td>\n",
       "      <td>0.00</td>\n",
       "      <td>0.01</td>\n",
       "      <td>0.02</td>\n",
       "      <td>1.01</td>\n",
       "      <td>1.02</td>\n",
       "      <td>0.00</td>\n",
       "      <td>3.71</td>\n",
       "      <td>&lt;0.005</td>\n",
       "      <td>12.26</td>\n",
       "    </tr>\n",
       "    <tr>\n",
       "      <th>historia_crediticia_pago_algun_credito</th>\n",
       "      <td>-0.38</td>\n",
       "      <td>0.68</td>\n",
       "      <td>0.10</td>\n",
       "      <td>-0.58</td>\n",
       "      <td>-0.18</td>\n",
       "      <td>0.56</td>\n",
       "      <td>0.84</td>\n",
       "      <td>0.00</td>\n",
       "      <td>-3.66</td>\n",
       "      <td>&lt;0.005</td>\n",
       "      <td>11.98</td>\n",
       "    </tr>\n",
       "    <tr>\n",
       "      <th>historia_crediticia_pago_retrasado</th>\n",
       "      <td>-0.57</td>\n",
       "      <td>0.56</td>\n",
       "      <td>0.15</td>\n",
       "      <td>-0.86</td>\n",
       "      <td>-0.29</td>\n",
       "      <td>0.42</td>\n",
       "      <td>0.75</td>\n",
       "      <td>0.00</td>\n",
       "      <td>-3.92</td>\n",
       "      <td>&lt;0.005</td>\n",
       "      <td>13.44</td>\n",
       "    </tr>\n",
       "    <tr>\n",
       "      <th>historia_crediticia_pago_todos</th>\n",
       "      <td>-1.00</td>\n",
       "      <td>0.37</td>\n",
       "      <td>0.24</td>\n",
       "      <td>-1.46</td>\n",
       "      <td>-0.53</td>\n",
       "      <td>0.23</td>\n",
       "      <td>0.59</td>\n",
       "      <td>0.00</td>\n",
       "      <td>-4.21</td>\n",
       "      <td>&lt;0.005</td>\n",
       "      <td>15.24</td>\n",
       "    </tr>\n",
       "    <tr>\n",
       "      <th>historia_crediticia_sin_creditos</th>\n",
       "      <td>-1.06</td>\n",
       "      <td>0.35</td>\n",
       "      <td>0.27</td>\n",
       "      <td>-1.58</td>\n",
       "      <td>-0.53</td>\n",
       "      <td>0.21</td>\n",
       "      <td>0.59</td>\n",
       "      <td>0.00</td>\n",
       "      <td>-3.95</td>\n",
       "      <td>&lt;0.005</td>\n",
       "      <td>13.67</td>\n",
       "    </tr>\n",
       "    <tr>\n",
       "      <th>situacion_laboral_desempleado</th>\n",
       "      <td>-0.63</td>\n",
       "      <td>0.53</td>\n",
       "      <td>0.29</td>\n",
       "      <td>-1.21</td>\n",
       "      <td>-0.06</td>\n",
       "      <td>0.30</td>\n",
       "      <td>0.94</td>\n",
       "      <td>0.00</td>\n",
       "      <td>-2.16</td>\n",
       "      <td>0.03</td>\n",
       "      <td>5.04</td>\n",
       "    </tr>\n",
       "    <tr>\n",
       "      <th>situacion_laboral_gobierno</th>\n",
       "      <td>-0.26</td>\n",
       "      <td>0.77</td>\n",
       "      <td>0.11</td>\n",
       "      <td>-0.48</td>\n",
       "      <td>-0.03</td>\n",
       "      <td>0.62</td>\n",
       "      <td>0.97</td>\n",
       "      <td>0.00</td>\n",
       "      <td>-2.22</td>\n",
       "      <td>0.03</td>\n",
       "      <td>5.23</td>\n",
       "    </tr>\n",
       "    <tr>\n",
       "      <th>situacion_laboral_obrero</th>\n",
       "      <td>-0.01</td>\n",
       "      <td>0.99</td>\n",
       "      <td>0.14</td>\n",
       "      <td>-0.28</td>\n",
       "      <td>0.25</td>\n",
       "      <td>0.76</td>\n",
       "      <td>1.29</td>\n",
       "      <td>0.00</td>\n",
       "      <td>-0.10</td>\n",
       "      <td>0.92</td>\n",
       "      <td>0.12</td>\n",
       "    </tr>\n",
       "  </tbody>\n",
       "</table><br><div>\n",
       "<style scoped>\n",
       "    .dataframe tbody tr th:only-of-type {\n",
       "        vertical-align: middle;\n",
       "    }\n",
       "\n",
       "    .dataframe tbody tr th {\n",
       "        vertical-align: top;\n",
       "    }\n",
       "\n",
       "    .dataframe thead th {\n",
       "        text-align: right;\n",
       "    }\n",
       "</style>\n",
       "<table border=\"1\" class=\"dataframe\">\n",
       "  <tbody>\n",
       "    <tr>\n",
       "      <th>Concordance</th>\n",
       "      <td>0.79</td>\n",
       "    </tr>\n",
       "    <tr>\n",
       "      <th>Partial AIC</th>\n",
       "      <td>8079.38</td>\n",
       "    </tr>\n",
       "    <tr>\n",
       "      <th>log-likelihood ratio test</th>\n",
       "      <td>481.39 on 11 df</td>\n",
       "    </tr>\n",
       "    <tr>\n",
       "      <th>-log2(p) of ll-ratio test</th>\n",
       "      <td>317.33</td>\n",
       "    </tr>\n",
       "  </tbody>\n",
       "</table>\n",
       "</div>"
      ],
      "text/plain": [
       "<lifelines.CoxPHFitter: fitted with 1000 total observations, 300 right-censored observations>\n",
       "             duration col = 'meses'\n",
       "                event col = 'credito_pagado'\n",
       "      baseline estimation = breslow\n",
       "   number of observations = 1000\n",
       "number of events observed = 700\n",
       "   partial log-likelihood = -4028.69\n",
       "         time fit was run = 2023-10-04 04:04:50 UTC\n",
       "\n",
       "---\n",
       "                                         coef  exp(coef)   se(coef)   coef lower 95%   coef upper 95%  exp(coef) lower 95%  exp(coef) upper 95%\n",
       "covariate                                                                                                                                      \n",
       "tasa_de_interes                         -0.45       0.64       0.04            -0.52            -0.37                 0.59                 0.69\n",
       "cantidad                                -0.00       1.00       0.00            -0.00            -0.00                 1.00                 1.00\n",
       "numero_creditos                          0.03       1.03       0.08            -0.13             0.19                 0.87                 1.21\n",
       "edad                                     0.01       1.01       0.00             0.01             0.02                 1.01                 1.02\n",
       "historia_crediticia_pago_algun_credito  -0.38       0.68       0.10            -0.58            -0.18                 0.56                 0.84\n",
       "historia_crediticia_pago_retrasado      -0.57       0.56       0.15            -0.86            -0.29                 0.42                 0.75\n",
       "historia_crediticia_pago_todos          -1.00       0.37       0.24            -1.46            -0.53                 0.23                 0.59\n",
       "historia_crediticia_sin_creditos        -1.06       0.35       0.27            -1.58            -0.53                 0.21                 0.59\n",
       "situacion_laboral_desempleado           -0.63       0.53       0.29            -1.21            -0.06                 0.30                 0.94\n",
       "situacion_laboral_gobierno              -0.26       0.77       0.11            -0.48            -0.03                 0.62                 0.97\n",
       "situacion_laboral_obrero                -0.01       0.99       0.14            -0.28             0.25                 0.76                 1.29\n",
       "\n",
       "                                         cmp to      z      p   -log2(p)\n",
       "covariate                                                               \n",
       "tasa_de_interes                            0.00 -11.90 <0.005     106.03\n",
       "cantidad                                   0.00 -16.03 <0.005     189.77\n",
       "numero_creditos                            0.00   0.35   0.72       0.47\n",
       "edad                                       0.00   3.71 <0.005      12.26\n",
       "historia_crediticia_pago_algun_credito     0.00  -3.66 <0.005      11.98\n",
       "historia_crediticia_pago_retrasado         0.00  -3.92 <0.005      13.44\n",
       "historia_crediticia_pago_todos             0.00  -4.21 <0.005      15.24\n",
       "historia_crediticia_sin_creditos           0.00  -3.95 <0.005      13.67\n",
       "situacion_laboral_desempleado              0.00  -2.16   0.03       5.04\n",
       "situacion_laboral_gobierno                 0.00  -2.22   0.03       5.23\n",
       "situacion_laboral_obrero                   0.00  -0.10   0.92       0.12\n",
       "---\n",
       "Concordance = 0.79\n",
       "Partial AIC = 8079.38\n",
       "log-likelihood ratio test = 481.39 on 11 df\n",
       "-log2(p) of ll-ratio test = 317.33"
      ]
     },
     "metadata": {},
     "output_type": "display_data"
    }
   ],
   "source": [
    "from lifelines import CoxPHFitter\n",
    "cph1 = CoxPHFitter().fit(banco,'meses','credito_pagado')\n",
    "cph1.print_summary()\n"
   ]
  },
  {
   "cell_type": "code",
   "execution_count": null,
   "metadata": {},
   "outputs": [
    {
     "data": {
      "text/plain": [
       "covariate\n",
       "tasa_de_interes                          -0.448345\n",
       "cantidad                                 -0.000391\n",
       "numero_creditos                           0.029649\n",
       "edad                                      0.012856\n",
       "historia_crediticia_pago_algun_credito   -0.378678\n",
       "historia_crediticia_pago_retrasado       -0.574573\n",
       "historia_crediticia_pago_todos           -0.996219\n",
       "historia_crediticia_sin_creditos         -1.059083\n",
       "situacion_laboral_desempleado            -0.632440\n",
       "situacion_laboral_gobierno               -0.255050\n",
       "situacion_laboral_obrero                 -0.014032\n",
       "Name: coef, dtype: float64"
      ]
     },
     "execution_count": 65,
     "metadata": {},
     "output_type": "execute_result"
    }
   ],
   "source": [
    "cph1.params_ "
   ]
  },
  {
   "cell_type": "code",
   "execution_count": null,
   "metadata": {},
   "outputs": [
    {
     "data": {
      "text/plain": [
       "covariate\n",
       "tasa_de_interes                           0.638684\n",
       "cantidad                                  0.999609\n",
       "numero_creditos                           1.030093\n",
       "edad                                      1.012939\n",
       "historia_crediticia_pago_algun_credito    0.684766\n",
       "historia_crediticia_pago_retrasado        0.562945\n",
       "historia_crediticia_pago_todos            0.369273\n",
       "historia_crediticia_sin_creditos          0.346774\n",
       "situacion_laboral_desempleado             0.531294\n",
       "situacion_laboral_gobierno                0.774878\n",
       "situacion_laboral_obrero                  0.986066\n",
       "Name: exp(coef), dtype: float64"
      ]
     },
     "execution_count": 66,
     "metadata": {},
     "output_type": "execute_result"
    }
   ],
   "source": [
    "cph1.hazard_ratios_"
   ]
  },
  {
   "cell_type": "markdown",
   "metadata": {},
   "source": [
    "### Interpretación de coeficientes: sea alpha = .05\n",
    "\n",
    "- tasa de interes: p valor < .005 entonces p valor < alpha rechazamos H0, coef estadisticamente sig\n",
    "\n",
    "La tasa de interes del prestamo disminuye el riesgo de que el préstamo se pague en su totalidad un 36% por cada unidad que aumenta. \n",
    "\n",
    "- cantidad: p valor < .005 entonces p valor < alpha rechazamos H0, coef estadisticamente sig\n",
    "\n",
    "La cantidad del prestamo disminuye el riesgo de que el préstamo se pague en su totalidad un .0391% por cada euro que incrementa. \n",
    "\n",
    "- numero de creditos: p valor > alpha mo rechazamos H0, coef no estadisticamente sig\n",
    "\n",
    "El numero de creditos no afecta en el riesgo de que el préstamo se pague en su totalidad, no aumenta ni disminuye\n",
    "\n",
    "- edad: p valor < .005 entonces p valor < alpha rechazamos H0, coef estadisticamente sig\n",
    "\n",
    "La edad aumenta el riesgo de que el préstamo se pague en su totalidad 1.3% por cada año de vida. \n",
    "\n",
    "- Ha pagado un crédito en su historial crediticio: p valor < .005 entonces p valor < alpha rechazamos H0, coef estadisticamente sig\n",
    "\n",
    "El hecho de que la persona haya pagado un solo crédito antes disminuye el riesgo de que el préstamo se pague en su totalidad un 32% en comparación con los que no han pagado ni un crédito. \n",
    "\n",
    "- Ha realizado algún pago retrasado en su historial crediticio: p valor < .005 entonces p valor < alpha rechazamos H0, coef estadisticamente sig\n",
    "\n",
    "El hecho de que la persona haya realizado algún pago retrasado antes disminuye el riesgo de que el préstamo se pague en su totalidad un 44% en comparación con los que no han pagado ni un crédito. \n",
    "\n",
    "- Ha pagado todos sus créditos en su historial crediticio: p valor < .005 entonces p valor < alpha rechazamos H0, coef estadisticamente sig\n",
    "\n",
    "El hecho de que la persona haya pagado todos sus créditos disminuye el riesgo de que el préstamo se pague en su totalidad un 63% en comparación con los que no han pagado ni un crédito. \n",
    "\n",
    "- Nunca ha tenido un crédito en su historial crediticio: p valor < .005 entonces p valor < alpha rechazamos H0, coef estadisticamente sig\n",
    "\n",
    "El hecho de que la persona nunca haya tenido un crédito disminuye el riesgo de que el préstamo se pague en su totalidad un 65% en comparación con los que no han pagado ni un crédito. \n",
    "\n",
    "- situacion laboral; desempleado y gobierno: p valor < alpha rechazamos H0, coef estadisticamente sig\n",
    "\n",
    "El hecho de que la persona este desempleada disminuye el riesgo de que el préstamo se pague en su totalidad un 47% en comparación con el que trabaja en el de administrativo. \n",
    "\n",
    "El hecho de que la persona trabaje en el gobierno disminuye el riesgo de que el préstamo se pague en su totalidad un 23% en comparación con el que trabaja en el de administrativo. \n",
    "\n",
    "- situación laboral; obrero: p valor > alpha mo rechazamos H0, coef no estadisticamente sig\n",
    "\n",
    "El hecho de que la persona trabaje de obrero no afecta en el riesgo de que el préstamo se pague en su totalidad, no aumenta ni disminuye en comparación con el que trabaja en el administrativo."
   ]
  },
  {
   "cell_type": "markdown",
   "metadata": {},
   "source": [
    "# 5. Con base en los cálculos realizados, redacta un comentario integral de por lo menos 250 palabras que resuma el análisis, reflexiones y recomendaciones sobre la política de otorgamiento de créditos en el Banco de la Ilusión"
   ]
  },
  {
   "cell_type": "markdown",
   "metadata": {},
   "source": [
    "En base a las 1,000 observaciones del Banco de la Ilusión se realizó un análisis con el fin de conocer más a fondo las variables alrededor de los prestamos otorgados por el banco en relación a la cantidad de tiempo que toma al acreedor pagar el préstamo en su totalidad. \n",
    "En cuanto al tiempo promedio de aquellos que ya han acreditado el préstamo es de 19 meses, este resultado se encuentra por debajo de la mediana, la cual obtuvimos estimando la función de supervivencia por medio de Kaplan Meier, que resulto de 24 lo que indica que existen valores muy pequeños que afectan la media hacia abajo. \n",
    "\n",
    "De igual manera, según el criterio de AIC encontramos que el “mejor” modelo como estimador de la función de riesgo es Lognormal, además en la gráfica notamos que el riesgo de que se pague en su totalidad el crédito es creciente y es acelerado hasta los 20 meses aproximadamente, después notamos un leve descenso indicando que entre más meses pasen, el riesgo de que pague disminuye.\n",
    "\n",
    "El monto promedio de aquellos que ya pagaron el crédito en su totalidad fue de 2,985.46 euros y la tasa promedio fue de 2.92; ambos resultados se encontraron por debajo de los promedios de aquellos que no han realizado el pago del préstamo, los cuales resultaron de 3,983.13 euros y 3.1, respectivamente. Por lo que, a mayor monto y tasa de interés, el riesgo de que el préstamo se pague en su totalidad disminuye. Este supuesto, fue confirmado por medio de un modelo de Cox donde la tasa de interés resulta mayormente significativa entre estas dos, pues disminuye el riesgo un 36% por cada unidad que aumenta mientras que la cantidad disminuye .0391% por cada euro que incrementa. De igual manera, encontramos por el modelo de Cox que el riesgo de que el préstamo se pague en su totalidad aumenta 1.3% por cada año de vida. \n",
    "\n",
    "Por lo que se recomienda a la empresa para aumentar el riesgo prestar atención a estas variables al ceder un préstamo, además prestar atención a su historial crediticio puesto que estas variables afectan significativamente disminuyendo el riesgo de que el préstamo se pague en su totalidad en comparación con los que no han pagado ni un solo crédito. \n",
    "Además, poner atención a las personas desempleadas ya que disminuye el riesgo considerablemente en comparación con aquellos que trabajan en administrativo. "
   ]
  }
 ],
 "metadata": {
  "kernelspec": {
   "display_name": "Python 3",
   "language": "python",
   "name": "python3"
  },
  "language_info": {
   "codemirror_mode": {
    "name": "ipython",
    "version": 3
   },
   "file_extension": ".py",
   "mimetype": "text/x-python",
   "name": "python",
   "nbconvert_exporter": "python",
   "pygments_lexer": "ipython3",
   "version": "3.11.4"
  },
  "orig_nbformat": 4
 },
 "nbformat": 4,
 "nbformat_minor": 2
}
