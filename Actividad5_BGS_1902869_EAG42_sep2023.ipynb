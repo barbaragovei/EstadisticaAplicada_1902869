{
 "cells": [
  {
   "cell_type": "markdown",
   "metadata": {},
   "source": [
    "## Estadistica Aplicada\n",
    "\n",
    "Tarea 5\n",
    "\n",
    "Bárbara Govea Serna 1902869\n",
    "\n",
    "Grupo 42"
   ]
  },
  {
   "cell_type": "markdown",
   "metadata": {},
   "source": [
    "## Libreria y base de datos"
   ]
  },
  {
   "cell_type": "code",
   "execution_count": 1,
   "metadata": {},
   "outputs": [],
   "source": [
    "# Librerias Básicas\n",
    "import numpy as np\n",
    "import pandas as pd\n",
    "import matplotlib.pyplot as plt \n",
    "%matplotlib inline"
   ]
  },
  {
   "cell_type": "code",
   "execution_count": 62,
   "metadata": {},
   "outputs": [],
   "source": [
    "# Librerias Especializadas\n",
    "from lifelines import ExponentialFitter,WeibullFitter,LogNormalFitter,KaplanMeierFitter\n",
    "from lifelines.statistics import logrank_test"
   ]
  },
  {
   "cell_type": "code",
   "execution_count": 3,
   "metadata": {},
   "outputs": [],
   "source": [
    "quiebra = pd.read_csv('https://raw.githubusercontent.com/jimmyzac/Estadistica-Aplicada-FCFM-UANL/main/bases_datos/quiebra.csv')"
   ]
  },
  {
   "cell_type": "code",
   "execution_count": 4,
   "metadata": {},
   "outputs": [
    {
     "data": {
      "text/html": [
       "<div>\n",
       "<style scoped>\n",
       "    .dataframe tbody tr th:only-of-type {\n",
       "        vertical-align: middle;\n",
       "    }\n",
       "\n",
       "    .dataframe tbody tr th {\n",
       "        vertical-align: top;\n",
       "    }\n",
       "\n",
       "    .dataframe thead th {\n",
       "        text-align: right;\n",
       "    }\n",
       "</style>\n",
       "<table border=\"1\" class=\"dataframe\">\n",
       "  <thead>\n",
       "    <tr style=\"text-align: right;\">\n",
       "      <th></th>\n",
       "      <th>tiempo</th>\n",
       "      <th>mujer</th>\n",
       "      <th>quebrar</th>\n",
       "    </tr>\n",
       "  </thead>\n",
       "  <tbody>\n",
       "    <tr>\n",
       "      <th>0</th>\n",
       "      <td>21</td>\n",
       "      <td>0</td>\n",
       "      <td>1</td>\n",
       "    </tr>\n",
       "    <tr>\n",
       "      <th>1</th>\n",
       "      <td>16</td>\n",
       "      <td>1</td>\n",
       "      <td>0</td>\n",
       "    </tr>\n",
       "    <tr>\n",
       "      <th>2</th>\n",
       "      <td>26</td>\n",
       "      <td>1</td>\n",
       "      <td>1</td>\n",
       "    </tr>\n",
       "    <tr>\n",
       "      <th>3</th>\n",
       "      <td>17</td>\n",
       "      <td>1</td>\n",
       "      <td>0</td>\n",
       "    </tr>\n",
       "    <tr>\n",
       "      <th>4</th>\n",
       "      <td>29</td>\n",
       "      <td>1</td>\n",
       "      <td>1</td>\n",
       "    </tr>\n",
       "    <tr>\n",
       "      <th>...</th>\n",
       "      <td>...</td>\n",
       "      <td>...</td>\n",
       "      <td>...</td>\n",
       "    </tr>\n",
       "    <tr>\n",
       "      <th>95</th>\n",
       "      <td>12</td>\n",
       "      <td>0</td>\n",
       "      <td>1</td>\n",
       "    </tr>\n",
       "    <tr>\n",
       "      <th>96</th>\n",
       "      <td>22</td>\n",
       "      <td>0</td>\n",
       "      <td>1</td>\n",
       "    </tr>\n",
       "    <tr>\n",
       "      <th>97</th>\n",
       "      <td>30</td>\n",
       "      <td>0</td>\n",
       "      <td>0</td>\n",
       "    </tr>\n",
       "    <tr>\n",
       "      <th>98</th>\n",
       "      <td>10</td>\n",
       "      <td>0</td>\n",
       "      <td>0</td>\n",
       "    </tr>\n",
       "    <tr>\n",
       "      <th>99</th>\n",
       "      <td>8</td>\n",
       "      <td>1</td>\n",
       "      <td>0</td>\n",
       "    </tr>\n",
       "  </tbody>\n",
       "</table>\n",
       "<p>100 rows × 3 columns</p>\n",
       "</div>"
      ],
      "text/plain": [
       "    tiempo  mujer  quebrar\n",
       "0       21      0        1\n",
       "1       16      1        0\n",
       "2       26      1        1\n",
       "3       17      1        0\n",
       "4       29      1        1\n",
       "..     ...    ...      ...\n",
       "95      12      0        1\n",
       "96      22      0        1\n",
       "97      30      0        0\n",
       "98      10      0        0\n",
       "99       8      1        0\n",
       "\n",
       "[100 rows x 3 columns]"
      ]
     },
     "execution_count": 4,
     "metadata": {},
     "output_type": "execute_result"
    }
   ],
   "source": [
    "quiebra"
   ]
  },
  {
   "cell_type": "markdown",
   "metadata": {},
   "source": [
    "La base de datos muestra los años que tarda en quebrar una empresa, desde que se crea hasta que quiebra, guardados en la variable tiempo \n",
    "\n",
    "La variable quebrar toma valores de 1 si quebro, y 0 si esta censurada\n",
    "\n",
    "La variable mujer toma valores de 0 si el fundador es hombre y 1 si es mujer\n"
   ]
  },
  {
   "cell_type": "markdown",
   "metadata": {},
   "source": [
    "## 3. Con la base de datos quiebra..."
   ]
  },
  {
   "cell_type": "markdown",
   "metadata": {},
   "source": [
    "### a. Ajuste un modelo de supervivencia exponencial"
   ]
  },
  {
   "cell_type": "code",
   "execution_count": 5,
   "metadata": {},
   "outputs": [],
   "source": [
    "# Calculando la exponencial con esta funcion, fit es para estimar le debmos dar el tiempo de supervivencia, y el indicador de censura\n",
    "exponencial = ExponentialFitter().fit(quiebra['tiempo'], quiebra['quebrar'])"
   ]
  },
  {
   "cell_type": "markdown",
   "metadata": {},
   "source": [
    "### b. Grafique la función de riesgo exponencial"
   ]
  },
  {
   "cell_type": "code",
   "execution_count": 45,
   "metadata": {},
   "outputs": [
    {
     "data": {
      "image/png": "[encoded data removed]",
      "text/plain": [
       "<Figure size 640x480 with 1 Axes>"
      ]
     },
     "metadata": {},
     "output_type": "display_data"
    }
   ],
   "source": [
    "# Graficar la funcion de riesgo exponencial\n",
    "exponencial.plot_hazard()\n",
    "plt.title('Funcion de riesgo $h(t)$ exponencial')\n",
    "plt.xlim(1,30)\n",
    "plt.ylim(.02,.05)\n",
    "plt.xlabel('Tiempo')\n",
    "plt.show()"
   ]
  },
  {
   "cell_type": "markdown",
   "metadata": {},
   "source": [
    "### c. ¿Cuál es el riesgo de que una empresa quiebre según la función exponencial?"
   ]
  },
  {
   "cell_type": "code",
   "execution_count": 9,
   "metadata": {},
   "outputs": [
    {
     "data": {
      "text/html": [
       "<div>\n",
       "<style scoped>\n",
       "    .dataframe tbody tr th:only-of-type {\n",
       "        vertical-align: middle;\n",
       "    }\n",
       "\n",
       "    .dataframe tbody tr th {\n",
       "        vertical-align: top;\n",
       "    }\n",
       "\n",
       "    .dataframe thead th {\n",
       "        text-align: right;\n",
       "    }\n",
       "</style>\n",
       "<table border=\"1\" class=\"dataframe\">\n",
       "  <thead>\n",
       "    <tr style=\"text-align: right;\">\n",
       "      <th></th>\n",
       "      <th>Exponential_estimate</th>\n",
       "    </tr>\n",
       "  </thead>\n",
       "  <tbody>\n",
       "    <tr>\n",
       "      <th>1.000000</th>\n",
       "      <td>0.032498</td>\n",
       "    </tr>\n",
       "    <tr>\n",
       "      <th>1.292929</th>\n",
       "      <td>0.032498</td>\n",
       "    </tr>\n",
       "    <tr>\n",
       "      <th>1.585859</th>\n",
       "      <td>0.032498</td>\n",
       "    </tr>\n",
       "    <tr>\n",
       "      <th>1.878788</th>\n",
       "      <td>0.032498</td>\n",
       "    </tr>\n",
       "    <tr>\n",
       "      <th>2.171717</th>\n",
       "      <td>0.032498</td>\n",
       "    </tr>\n",
       "    <tr>\n",
       "      <th>...</th>\n",
       "      <td>...</td>\n",
       "    </tr>\n",
       "    <tr>\n",
       "      <th>28.828283</th>\n",
       "      <td>0.032498</td>\n",
       "    </tr>\n",
       "    <tr>\n",
       "      <th>29.121212</th>\n",
       "      <td>0.032498</td>\n",
       "    </tr>\n",
       "    <tr>\n",
       "      <th>29.414141</th>\n",
       "      <td>0.032498</td>\n",
       "    </tr>\n",
       "    <tr>\n",
       "      <th>29.707071</th>\n",
       "      <td>0.032498</td>\n",
       "    </tr>\n",
       "    <tr>\n",
       "      <th>30.000000</th>\n",
       "      <td>0.032498</td>\n",
       "    </tr>\n",
       "  </tbody>\n",
       "</table>\n",
       "<p>100 rows × 1 columns</p>\n",
       "</div>"
      ],
      "text/plain": [
       "           Exponential_estimate\n",
       "1.000000               0.032498\n",
       "1.292929               0.032498\n",
       "1.585859               0.032498\n",
       "1.878788               0.032498\n",
       "2.171717               0.032498\n",
       "...                         ...\n",
       "28.828283              0.032498\n",
       "29.121212              0.032498\n",
       "29.414141              0.032498\n",
       "29.707071              0.032498\n",
       "30.000000              0.032498\n",
       "\n",
       "[100 rows x 1 columns]"
      ]
     },
     "execution_count": 9,
     "metadata": {},
     "output_type": "execute_result"
    }
   ],
   "source": [
    "exponencial.hazard_\n",
    "# El riesgo es constante "
   ]
  },
  {
   "cell_type": "markdown",
   "metadata": {},
   "source": [
    "El riesgo de que una empresa quiebre es constante, de 3.25% \n"
   ]
  },
  {
   "cell_type": "markdown",
   "metadata": {},
   "source": [
    "## 4. Utilizando la misma base de datos..."
   ]
  },
  {
   "cell_type": "markdown",
   "metadata": {},
   "source": [
    "### a. Ajuste un modelo weibull de supervivencia"
   ]
  },
  {
   "cell_type": "code",
   "execution_count": 11,
   "metadata": {},
   "outputs": [],
   "source": [
    "# Calculando la weibull con esta funcion, fit es para estimar le debmos dar el tiempo de supervivencia, y el indicador de censura\n",
    "mweibull = WeibullFitter().fit(quiebra['tiempo'], quiebra['quebrar'])"
   ]
  },
  {
   "cell_type": "markdown",
   "metadata": {},
   "source": [
    "### b. Grafique la función de riesgo"
   ]
  },
  {
   "cell_type": "code",
   "execution_count": 42,
   "metadata": {},
   "outputs": [
    {
     "data": {
      "image/png": "[encoded data removed]",
      "text/plain": [
       "<Figure size 640x480 with 1 Axes>"
      ]
     },
     "metadata": {},
     "output_type": "display_data"
    }
   ],
   "source": [
    "mweibull.plot_hazard()\n",
    "plt.title('Funcion de riesgo $h(t)$ Weibull')\n",
    "plt.xlim(1,30)\n",
    "plt.xlabel('Tiempo')\n",
    "plt.show()"
   ]
  },
  {
   "cell_type": "markdown",
   "metadata": {},
   "source": [
    "### c. ¿Qué forma tiene la función de riesgo? y ¿Qué significa?"
   ]
  },
  {
   "cell_type": "code",
   "execution_count": 14,
   "metadata": {},
   "outputs": [
    {
     "data": {
      "text/plain": [
       "1.6927874452647882"
      ]
     },
     "execution_count": 14,
     "metadata": {},
     "output_type": "execute_result"
    }
   ],
   "source": [
    "# Parametro gamma\n",
    "mweibull.rho_"
   ]
  },
  {
   "cell_type": "markdown",
   "metadata": {},
   "source": [
    "En la gráfica de nuestra función de riesgo notamos que el riesgo es creciente. \n",
    "\n",
    "De igual manera, como  nuestro valor de gamma es mayor a 1 entonces existe un riesgo creciente. \n",
    "Conforme avanza el tiempo, el riesgo de quiebra es mayor. \n",
    "Entre mayor sea gamma, la relación con el tiempo es mayor."
   ]
  },
  {
   "cell_type": "markdown",
   "metadata": {},
   "source": [
    "## 5. Utilizando la misma base de datos"
   ]
  },
  {
   "cell_type": "markdown",
   "metadata": {},
   "source": [
    "### a. Ajuste un modelo Log-Normal de supervivencia"
   ]
  },
  {
   "cell_type": "code",
   "execution_count": 15,
   "metadata": {},
   "outputs": [],
   "source": [
    "# Calculando la lognormal con esta funcion, fit es para estimar le debmos dar el tiempo de supervivencia, y el indicador de censura\n",
    "llognormal = LogNormalFitter().fit(quiebra['tiempo'], quiebra['quebrar'])"
   ]
  },
  {
   "cell_type": "markdown",
   "metadata": {},
   "source": [
    "### b. Grafique la función de riesgo"
   ]
  },
  {
   "cell_type": "code",
   "execution_count": 41,
   "metadata": {},
   "outputs": [
    {
     "data": {
      "image/png": "[encoded data removed]",
      "text/plain": [
       "<Figure size 640x480 with 1 Axes>"
      ]
     },
     "metadata": {},
     "output_type": "display_data"
    }
   ],
   "source": [
    "llognormal.plot_hazard()\n",
    "plt.title('Funcion de riesgo $h(t)$ lognormal')\n",
    "plt.xlim(1,30)\n",
    "plt.xlabel('Tiempo')\n",
    "plt.show()"
   ]
  },
  {
   "cell_type": "markdown",
   "metadata": {},
   "source": [
    "### c. ¿En qué periodo el riesgo de quebrar es creciente y en cual decreciente?"
   ]
  },
  {
   "cell_type": "markdown",
   "metadata": {},
   "source": [
    "Analizando la gráfica, vemos que el riesgo es creciente desde el tiempo 1 hasta el tiempo 10 aproximadamente, donde se observa que empieza a decrecer a partir de ese periodo"
   ]
  },
  {
   "cell_type": "markdown",
   "metadata": {},
   "source": [
    "# 6. Utilizando el estimador de Kaplan-Meier..."
   ]
  },
  {
   "cell_type": "markdown",
   "metadata": {},
   "source": [
    "### a. Estimar la función de superviviencia, la mediana de tiempo de supervivencia y diga que significa"
   ]
  },
  {
   "cell_type": "code",
   "execution_count": 23,
   "metadata": {},
   "outputs": [
    {
     "data": {
      "text/html": [
       "<div>\n",
       "<style scoped>\n",
       "    .dataframe tbody tr th:only-of-type {\n",
       "        vertical-align: middle;\n",
       "    }\n",
       "\n",
       "    .dataframe tbody tr th {\n",
       "        vertical-align: top;\n",
       "    }\n",
       "\n",
       "    .dataframe thead th {\n",
       "        text-align: right;\n",
       "    }\n",
       "</style>\n",
       "<table border=\"1\" class=\"dataframe\">\n",
       "  <thead>\n",
       "    <tr style=\"text-align: right;\">\n",
       "      <th></th>\n",
       "      <th>KM_estimate</th>\n",
       "    </tr>\n",
       "    <tr>\n",
       "      <th>timeline</th>\n",
       "      <th></th>\n",
       "    </tr>\n",
       "  </thead>\n",
       "  <tbody>\n",
       "    <tr>\n",
       "      <th>0.0</th>\n",
       "      <td>1.000000</td>\n",
       "    </tr>\n",
       "    <tr>\n",
       "      <th>1.0</th>\n",
       "      <td>0.990000</td>\n",
       "    </tr>\n",
       "    <tr>\n",
       "      <th>2.0</th>\n",
       "      <td>0.959694</td>\n",
       "    </tr>\n",
       "    <tr>\n",
       "      <th>3.0</th>\n",
       "      <td>0.928400</td>\n",
       "    </tr>\n",
       "    <tr>\n",
       "      <th>4.0</th>\n",
       "      <td>0.928400</td>\n",
       "    </tr>\n",
       "    <tr>\n",
       "      <th>5.0</th>\n",
       "      <td>0.917477</td>\n",
       "    </tr>\n",
       "    <tr>\n",
       "      <th>7.0</th>\n",
       "      <td>0.873261</td>\n",
       "    </tr>\n",
       "    <tr>\n",
       "      <th>8.0</th>\n",
       "      <td>0.829046</td>\n",
       "    </tr>\n",
       "    <tr>\n",
       "      <th>9.0</th>\n",
       "      <td>0.829046</td>\n",
       "    </tr>\n",
       "    <tr>\n",
       "      <th>10.0</th>\n",
       "      <td>0.791924</td>\n",
       "    </tr>\n",
       "    <tr>\n",
       "      <th>11.0</th>\n",
       "      <td>0.766378</td>\n",
       "    </tr>\n",
       "    <tr>\n",
       "      <th>12.0</th>\n",
       "      <td>0.726043</td>\n",
       "    </tr>\n",
       "    <tr>\n",
       "      <th>14.0</th>\n",
       "      <td>0.726043</td>\n",
       "    </tr>\n",
       "    <tr>\n",
       "      <th>15.0</th>\n",
       "      <td>0.711225</td>\n",
       "    </tr>\n",
       "    <tr>\n",
       "      <th>16.0</th>\n",
       "      <td>0.664841</td>\n",
       "    </tr>\n",
       "    <tr>\n",
       "      <th>17.0</th>\n",
       "      <td>0.664841</td>\n",
       "    </tr>\n",
       "    <tr>\n",
       "      <th>18.0</th>\n",
       "      <td>0.646373</td>\n",
       "    </tr>\n",
       "    <tr>\n",
       "      <th>19.0</th>\n",
       "      <td>0.627362</td>\n",
       "    </tr>\n",
       "    <tr>\n",
       "      <th>20.0</th>\n",
       "      <td>0.607757</td>\n",
       "    </tr>\n",
       "    <tr>\n",
       "      <th>21.0</th>\n",
       "      <td>0.586800</td>\n",
       "    </tr>\n",
       "    <tr>\n",
       "      <th>22.0</th>\n",
       "      <td>0.543333</td>\n",
       "    </tr>\n",
       "    <tr>\n",
       "      <th>23.0</th>\n",
       "      <td>0.475417</td>\n",
       "    </tr>\n",
       "    <tr>\n",
       "      <th>24.0</th>\n",
       "      <td>0.475417</td>\n",
       "    </tr>\n",
       "    <tr>\n",
       "      <th>25.0</th>\n",
       "      <td>0.404104</td>\n",
       "    </tr>\n",
       "    <tr>\n",
       "      <th>26.0</th>\n",
       "      <td>0.378848</td>\n",
       "    </tr>\n",
       "    <tr>\n",
       "      <th>27.0</th>\n",
       "      <td>0.320563</td>\n",
       "    </tr>\n",
       "    <tr>\n",
       "      <th>28.0</th>\n",
       "      <td>0.291421</td>\n",
       "    </tr>\n",
       "    <tr>\n",
       "      <th>29.0</th>\n",
       "      <td>0.259041</td>\n",
       "    </tr>\n",
       "    <tr>\n",
       "      <th>30.0</th>\n",
       "      <td>0.129521</td>\n",
       "    </tr>\n",
       "  </tbody>\n",
       "</table>\n",
       "</div>"
      ],
      "text/plain": [
       "          KM_estimate\n",
       "timeline             \n",
       "0.0          1.000000\n",
       "1.0          0.990000\n",
       "2.0          0.959694\n",
       "3.0          0.928400\n",
       "4.0          0.928400\n",
       "5.0          0.917477\n",
       "7.0          0.873261\n",
       "8.0          0.829046\n",
       "9.0          0.829046\n",
       "10.0         0.791924\n",
       "11.0         0.766378\n",
       "12.0         0.726043\n",
       "14.0         0.726043\n",
       "15.0         0.711225\n",
       "16.0         0.664841\n",
       "17.0         0.664841\n",
       "18.0         0.646373\n",
       "19.0         0.627362\n",
       "20.0         0.607757\n",
       "21.0         0.586800\n",
       "22.0         0.543333\n",
       "23.0         0.475417\n",
       "24.0         0.475417\n",
       "25.0         0.404104\n",
       "26.0         0.378848\n",
       "27.0         0.320563\n",
       "28.0         0.291421\n",
       "29.0         0.259041\n",
       "30.0         0.129521"
      ]
     },
     "execution_count": 23,
     "metadata": {},
     "output_type": "execute_result"
    }
   ],
   "source": [
    "# Estimador Kaplan Meier de la función de supervivencia, primero el tiempo después la censura\n",
    "km_quiebra = KaplanMeierFitter().fit(quiebra['tiempo'], quiebra['quebrar'])\n",
    "km_quiebra.survival_function_"
   ]
  },
  {
   "cell_type": "code",
   "execution_count": 24,
   "metadata": {},
   "outputs": [
    {
     "data": {
      "text/plain": [
       "23.0"
      ]
     },
     "execution_count": 24,
     "metadata": {},
     "output_type": "execute_result"
    }
   ],
   "source": [
    "km_quiebra.median_survival_time_"
   ]
  },
  {
   "cell_type": "markdown",
   "metadata": {},
   "source": [
    "La mediana del tiempo de supervivencia es 23 años, significa que la mitad de las empresas quiebra antes de los 23 años, por consiguiente la otra mitad dura más de 23 años."
   ]
  },
  {
   "cell_type": "markdown",
   "metadata": {},
   "source": [
    "### b. Estimar la fn de supervivencia por Kaplan Meier para hombres y mujeres, realizar la gráfica. Diga si las empresas administradas por hombres/mujeres quiebran mas rápido. Etiquetar cada línea y agregar todos los elementos en la gráfica"
   ]
  },
  {
   "cell_type": "code",
   "execution_count": 56,
   "metadata": {},
   "outputs": [],
   "source": [
    "# Separamos la base de datos\n",
    "hombres = quiebra.query('mujer == 0')\n",
    "mujeres = quiebra.query('mujer == 1')\n",
    "\n",
    "# Estimar la fn de supervivencia por KM\n",
    "km_hombres = KaplanMeierFitter().fit(hombres['tiempo'], hombres['quebrar'])\n",
    "km_mujeres = KaplanMeierFitter().fit(mujeres['tiempo'], mujeres['quebrar'])"
   ]
  },
  {
   "cell_type": "code",
   "execution_count": 61,
   "metadata": {},
   "outputs": [
    {
     "data": {
      "image/png": "[encoded data removed]",
      "text/plain": [
       "<Figure size 640x480 with 1 Axes>"
      ]
     },
     "metadata": {},
     "output_type": "display_data"
    }
   ],
   "source": [
    "# Graficando la fn de supervivencia\n",
    "km_hombres.plot_survival_function(ci_show=False,label='Hombres')\n",
    "km_mujeres.plot_survival_function(ci_show=False,label='Mujeres')\n",
    "plt.title('Funcion de supervivencia $S(t)$ estimada por Kaplan-Meier')\n",
    "plt.xlim(0,31)\n",
    "plt.xlabel('Tiempo')\n",
    "plt.show()\n"
   ]
  },
  {
   "cell_type": "markdown",
   "metadata": {},
   "source": [
    "Analizando la gráfica, notese que en el tiempo 30, termina la función de supervivencia representada para los hombres por lo que podriamos decir que las empresas administradas por hombres quiebran más rápido. \n",
    "En las intersecciones, las funciones de supervivencia son iguales, tanto para hombres como para mujeres"
   ]
  },
  {
   "cell_type": "markdown",
   "metadata": {},
   "source": [
    "### c. Refutar o confirmar con evidencia estadistica la afirmación del profesor, que las empresas fundadas por hombres quiebran más rápido"
   ]
  },
  {
   "cell_type": "code",
   "execution_count": 72,
   "metadata": {},
   "outputs": [
    {
     "data": {
      "text/plain": [
       "<bound method StatisticalResult.print_summary of <lifelines.StatisticalResult: logrank_test>\n",
       "               t_0 = -1\n",
       " null_distribution = chi squared\n",
       "degrees_of_freedom = 1\n",
       "         test_name = logrank_test\n",
       "\n",
       "---\n",
       " test_statistic    p  -log2(p)\n",
       "           0.28 0.59      0.75>"
      ]
     },
     "execution_count": 72,
     "metadata": {},
     "output_type": "execute_result"
    }
   ],
   "source": [
    "# Realizaremos un log rank test, donde se contrasta la hipotesis nula de que ambas funciones de supervivencia son iguales con la hipotesis de que son diferentes\n",
    "Lrt = logrank_test(hombres['tiempo'],mujeres['tiempo'],hombres['quebrar'],mujeres['quebrar'])\n",
    "Lrt.print_summary"
   ]
  },
  {
   "cell_type": "markdown",
   "metadata": {},
   "source": [
    "Notese que nuestro p value es de .59, mayor a .05 (nivel de significancia) por lo no hay evidencias para rechazar la hipotesis nula.\n",
    "\n",
    "Es decir, refutamos la idea de que las empresas administradas por los hombres quiebren más rapido, ya que no podemos concluir que existe una diferencia significativa entre ambas."
   ]
  }
 ],
 "metadata": {
  "kernelspec": {
   "display_name": "Python 3",
   "language": "python",
   "name": "python3"
  },
  "language_info": {
   "codemirror_mode": {
    "name": "ipython",
    "version": 3
   },
   "file_extension": ".py",
   "mimetype": "text/x-python",
   "name": "python",
   "nbconvert_exporter": "python",
   "pygments_lexer": "ipython3",
   "version": "3.11.4"
  },
  "orig_nbformat": 4
 },
 "nbformat": 4,
 "nbformat_minor": 2
}
